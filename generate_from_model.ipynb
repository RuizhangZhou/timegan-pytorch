{
 "cells": [
  {
   "cell_type": "code",
   "execution_count": 9,
   "metadata": {},
   "outputs": [],
   "source": [
    "import pickle\n",
    "import torch\n",
    "from models.timegan import TimeGAN\n",
    "from models.utils import rescale\n",
    "import os\n",
    "os.environ[\"CUDA_VISIBLE_DEVICES\"] = \"2\""
   ]
  },
  {
   "cell_type": "code",
   "execution_count": 3,
   "metadata": {},
   "outputs": [
    {
     "name": "stdout",
     "output_type": "stream",
     "text": [
      "Namespace(device='cuda', exp='inD_multi_Epoch5000_withoutZfilter_min_G_Loss_period1000epoch', is_train=True, seed=42, feat_pred_no=1, max_seq_len=100, train_rate=0.5, scaling_method='minmax', emb_epochs=5000, sup_epochs=5000, gan_epochs=5000, batch_size=128, hidden_dim=20, num_layers=3, dis_thresh=0.15, optimizer='adam', learning_rate=0.001, model_path='/home/rzhou/Projects/timegan-pytorch/output/inD_multi_Epoch5000_withoutZfilter_min_G_Loss_period1000epoch', padding_value=-10.0, feature_dim=10, Z_dim=10)\n",
      "tensor([100., 100., 100.,  ..., 100., 100., 100.])\n",
      "1773\n"
     ]
    }
   ],
   "source": [
    "path=\"/home/rzhou/Projects/timegan-pytorch/output/inD_multi_Epoch5000_withoutZfilter_min_G_Loss_period1000epoch\"\n",
    "with open(f\"{path}/args.pickle\", \"rb\") as fb:\n",
    "    args = torch.load(fb)\n",
    "with open(f\"{path}/fake_time.pickle\", \"rb\") as fb:\n",
    "    fake_time = pickle.load(fb)\n",
    "print(args)\n",
    "\n",
    "fake_time = torch.tensor(fake_time, dtype=torch.float32)\n",
    "print(fake_time)\n",
    "print(len(fake_time)) "
   ]
  },
  {
   "cell_type": "code",
   "execution_count": 25,
   "metadata": {},
   "outputs": [
    {
     "name": "stdout",
     "output_type": "stream",
     "text": [
      "Loading data...\n",
      "\n"
     ]
    },
    {
     "name": "stderr",
     "output_type": "stream",
     "text": [
      "100%|██████████| 3546/3546 [00:03<00:00, 952.86it/s]\n"
     ]
    }
   ],
   "source": [
    "from data.data_preprocess import data_preprocess\n",
    "data_path=\"/DATA1/rzhou/ika/multi_testcases/inD_multi_full.csv\"\n",
    "X, T, params_rescale, args.max_seq_len, args.padding_value = data_preprocess(\n",
    "    file_name=data_path, max_seq_len=args.max_seq_len,scaling_method=args.scaling_method\n",
    ")"
   ]
  },
  {
   "cell_type": "code",
   "execution_count": 30,
   "metadata": {},
   "outputs": [],
   "source": [
    "\n",
    "#device = torch.device(\"cuda\" if torch.cuda.is_available() else \"cpu\")\n",
    "model = TimeGAN(args)\n",
    "model_path = \"/home/rzhou/Projects/timegan-pytorch/output/inD_multi_Epoch5000_withoutZfilter_min_G_Loss_period1000epoch/min_G_loss_model_epoch_3000.pt\"\n",
    "model.load_state_dict(torch.load(model_path))\n",
    "model.to(args.device)\n",
    "model.eval()\n",
    "with torch.no_grad():\n",
    "    # Generate fake data\n",
    "    Z = torch.rand((len(fake_time), args.max_seq_len, args.Z_dim))\n",
    "    generated_data = model(X=None, T=fake_time, Z=Z, obj=\"inference\").numpy()"
   ]
  },
  {
   "cell_type": "code",
   "execution_count": 24,
   "metadata": {},
   "outputs": [
    {
     "name": "stdout",
     "output_type": "stream",
     "text": [
      "Loading data...\n",
      "\n"
     ]
    },
    {
     "name": "stderr",
     "output_type": "stream",
     "text": [
      "100%|██████████| 3546/3546 [00:03<00:00, 966.49it/s]\n"
     ]
    }
   ],
   "source": [
    "from data.data_preprocess import data_preprocess\n",
    "data_path=\"/DATA1/rzhou/ika/multi_testcases/inD_multi_full.csv\"\n",
    "X, T, params_rescale, args.max_seq_len, args.padding_value = data_preprocess(\n",
    "    file_name=data_path, max_seq_len=args.max_seq_len,scaling_method=args.scaling_method\n",
    ")"
   ]
  },
  {
   "cell_type": "code",
   "execution_count": 38,
   "metadata": {},
   "outputs": [
    {
     "name": "stdout",
     "output_type": "stream",
     "text": [
      "[53.693905 56.14267  46.45518  41.588062 46.864594 54.070614 57.507465\n",
      " 57.608166 58.066864 58.530518 59.96658  61.228233 61.67694  62.623016\n",
      " 63.771244 64.07951  64.94944  64.17793  64.80331  64.77189  65.255325\n",
      " 65.27692  65.58153  65.336426 65.7038   65.61134  66.354996 66.3203\n",
      " 66.73165  66.28355  66.8974   66.9259   67.1614   67.175674 67.37832\n",
      " 67.54931  67.539345 67.710045 67.83585  68.14328  68.6448   68.81104\n",
      " 69.18429  69.11781  69.54867  69.978294 70.07203  70.483826 69.55534\n",
      " 70.30963  69.912025 71.469666 70.89701  71.657005 70.97581  71.69322\n",
      " 71.39814  71.6702   71.712944 72.31075  72.41673  72.79986  72.65403\n",
      " 73.10453  73.042465 72.99622  73.28899  73.16202  73.2286   73.34489\n",
      " 73.38226  74.13366  74.02003  74.42183  74.37683  74.68288  74.57532\n",
      " 74.888306 75.39368  75.62078  75.98763  75.98087  76.2559   76.45484\n",
      " 76.24287  76.54543  76.51118  76.38917  76.56676  76.49751  77.11137\n",
      " 76.88216  77.21395  76.15181  76.90452  76.273415 77.51685  76.98204\n",
      " 77.562294 77.48296 ]\n"
     ]
    }
   ],
   "source": [
    "rescaled_generated_data=rescale(generated_data,args.scaling_method,params_rescale)\n",
    "print(rescaled_generated_data[0][:,0])"
   ]
  },
  {
   "cell_type": "code",
   "execution_count": 27,
   "metadata": {},
   "outputs": [
    {
     "data": {
      "image/png": "[encoded data removed]",
      "text/plain": [
       "<Figure size 640x480 with 1 Axes>"
      ]
     },
     "metadata": {},
     "output_type": "display_data"
    }
   ],
   "source": [
    "import numpy as np\n",
    "import matplotlib.pyplot as plt\n",
    "import matplotlib.animation as animation\n",
    "\n",
    "# 假定rescaled_generated_data为(1773, 100, 10)的NumPy数组\n",
    "# 请确保已经正确加载了rescaled_generated_data\n",
    "\n",
    "frames_per_second = 5  # 定义每秒展示的帧数\n",
    "total_seconds_per_case = 20  # 定义每个案例表示的总秒数\n",
    "frames_per_case = frames_per_second * total_seconds_per_case  # 计算每个案例的总帧数\n",
    "\n",
    "# 创建图形和轴\n",
    "fig, ax = plt.subplots()\n",
    "\n",
    "# 根据数据设置轴界限\n",
    "# 注意：这里假设x和y坐标分别位于最后一维的偶数和奇数索引位置\n",
    "x_min, x_max = np.min(rescaled_generated_data[..., ::2]), np.max(rescaled_generated_data[..., ::2])\n",
    "y_min, y_max = np.min(rescaled_generated_data[..., 1::2]), np.max(rescaled_generated_data[..., 1::2])\n",
    "ax.set_xlim(x_min, x_max)\n",
    "ax.set_ylim(y_min, y_max)\n",
    "\n",
    "# 初始化绘制点的占位符，此处对应5个点\n",
    "points = [ax.plot([], [], 'o', label=f'Point {i+1}')[0] for i in range(5)]\n",
    "\n",
    "# 初始化函数，设置动画开始时的背景\n",
    "def init():\n",
    "    for point in points:\n",
    "        point.set_data([], [])\n",
    "    return points\n",
    "\n",
    "# 更新函数，用于动画的每一帧\n",
    "def update(frame):\n",
    "    # 根据总帧数来计算当前应该展示的数据索引\n",
    "    current_index = frame % 100  # 每100帧数据对应一个完整周期\n",
    "    # 假设rescaled_generated_data.shape[0]给出了数据集的总行数\n",
    "    total_rows = rescaled_generated_data.shape[0]\n",
    "    random_indices = np.random.choice(total_rows, 5, replace=False)\n",
    "\n",
    "    # 根据帧数选择对应的数据\n",
    "    for i, point in enumerate(points):\n",
    "        # 选择对应案例的数据\n",
    "        case_data = rescaled_generated_data[random_indices[i]]  # 选择最后五行作为案例\n",
    "        x = case_data[current_index, i*2]  # x坐标\n",
    "        y = case_data[current_index, i*2+1]  # y坐标\n",
    "        point.set_data(x, y)\n",
    "    return points\n",
    "\n",
    "# 创建动画\n",
    "ani = animation.FuncAnimation(fig, update, frames=total_seconds_per_case * frames_per_second,\n",
    "                              init_func=init, blit=True, repeat=True)\n",
    "\n",
    "plt.show()\n",
    "\n",
    "# 注意：由于当前环境限制，实际保存动画需在你的本地环境执行\n",
    "ani.save('trajectory_animation.mp4', fps=frames_per_second, extra_args=['-vcodec', 'libx264'])\n"
   ]
  },
  {
   "cell_type": "code",
   "execution_count": null,
   "metadata": {},
   "outputs": [],
   "source": []
  }
 ],
 "metadata": {
  "kernelspec": {
   "display_name": "base",
   "language": "python",
   "name": "python3"
  },
  "language_info": {
   "codemirror_mode": {
    "name": "ipython",
    "version": 3
   },
   "file_extension": ".py",
   "mimetype": "text/x-python",
   "name": "python",
   "nbconvert_exporter": "python",
   "pygments_lexer": "ipython3",
   "version": "3.11.8"
  }
 },
 "nbformat": 4,
 "nbformat_minor": 2
}
